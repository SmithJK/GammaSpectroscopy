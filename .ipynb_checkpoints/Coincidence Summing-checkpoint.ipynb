{
 "cells": [
  {
   "cell_type": "code",
   "execution_count": 2,
   "metadata": {
    "collapsed": true
   },
   "outputs": [],
   "source": [
    "%matplotlib inline\n",
    "import numpy as np\n",
    "import matplotlib.pyplot as plt\n",
    "import scipy as sp"
   ]
  },
  {
   "cell_type": "code",
   "execution_count": 5,
   "metadata": {},
   "outputs": [
    {
     "name": "stdout",
     "output_type": "stream",
     "text": [
      "[[ 0.4  0.4  0.4  0.4]\n",
      " [ 0.4  0.4  0.4  0.4]\n",
      " [ 0.4  0.4  0.4  0.4]\n",
      " [ 0.4  0.4  0.4  0.4]]\n"
     ]
    }
   ],
   "source": [
    "#COBALT 60 TOY SYSTEM\n",
    "# matrix dimensions\n",
    "i=4\n",
    "j=4\n",
    "\n",
    "#feeding fractions\n",
    "F = np.array([0, 0.12, 0.002, 99.88])\n",
    "# print(F)\n",
    "\n",
    "#branching fractions\n",
    "X = np.array([[0,0,0,0],[99.9826,0,0,0],[0.0012,0.0076,0,0],[0.000002,99.85,0.0075,0]])\n",
    "# print(X)\n",
    "\n",
    "# peak efficiencies\n",
    "ep = np.ones((4,4))*.3 #not a real set\n",
    "\n",
    "#total efficiencies\n",
    "et = np.ones((4,4))*.4\n",
    "\n",
    "# conversion coefficient\n",
    "alpha = np.ones((4,4))*.5\n",
    "\n",
    "# equation 4(a-d)\n",
    "c = X/(1+alpha)\n",
    "a = c*ep\n",
    "e = c*et\n",
    "b = X-e\n",
    "\n",
    "# equation 5\n",
    "E = np.identity(4)\n",
    "\n",
    "A = a.dot(a) #kth power\n",
    "B = E + b.dot(b) #kth power\n",
    "\n",
    "# equation 6\n",
    "R = 2 #source disintegration rate\n",
    "\n",
    "# N = \n",
    "# m = \n",
    "# S = "
   ]
  },
  {
   "cell_type": "code",
   "execution_count": null,
   "metadata": {
    "collapsed": true
   },
   "outputs": [],
   "source": []
  }
 ],
 "metadata": {
  "kernelspec": {
   "display_name": "Python 3",
   "language": "python",
   "name": "python3"
  },
  "language_info": {
   "codemirror_mode": {
    "name": "ipython",
    "version": 3
   },
   "file_extension": ".py",
   "mimetype": "text/x-python",
   "name": "python",
   "nbconvert_exporter": "python",
   "pygments_lexer": "ipython3",
   "version": "3.6.2"
  }
 },
 "nbformat": 4,
 "nbformat_minor": 2
}
